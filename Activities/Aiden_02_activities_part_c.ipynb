{
  "cells": [
    {
      "cell_type": "markdown",
      "metadata": {
        "id": "view-in-github",
        "colab_type": "text"
      },
      "source": [
        "<a href=\"https://colab.research.google.com/github/amsoccerman05/programmingfordatascience/blob/main/Aiden_02_activities_part_c.ipynb\" target=\"_parent\"><img src=\"https://colab.research.google.com/assets/colab-badge.svg\" alt=\"Open In Colab\"/></a>"
      ]
    },
    {
      "cell_type": "markdown",
      "metadata": {
        "id": "Fp3NSs7b78ry"
      },
      "source": [
        "# Math  1376: Programming for Data Science\n",
        "---\n",
        "\n",
        "## External activities for 02-Python-basics-lecture-part-c\n",
        "---\n",
        "\n",
        "**Expected time to completion: 1 hour**"
      ]
    },
    {
      "cell_type": "code",
      "execution_count": null,
      "metadata": {
        "id": "chBCD2Sq78r0"
      },
      "outputs": [],
      "source": [
        "import numpy as np"
      ]
    },
    {
      "cell_type": "markdown",
      "metadata": {
        "id": "7Efhh3cZ78r1"
      },
      "source": [
        "Below we make three arrays, `A`, `B`, and `C`, of different shapes."
      ]
    },
    {
      "cell_type": "code",
      "execution_count": null,
      "metadata": {
        "id": "YRdR6DB078r2"
      },
      "outputs": [],
      "source": [
        "# Creating the arrays (really matrices) used in this activity\n",
        "A = np.reshape(range(1,7),(2,3))  # create a 2x3 array\n",
        "B = np.reshape(range(1,7),(3,2))  # create a 3x2 array \n",
        "C = np.reshape(range(1,10),(3,3))  # create a 3x3 array\n",
        "print(A, '\\n\\n', B, '\\n\\n', C)"
      ]
    },
    {
      "cell_type": "markdown",
      "metadata": {
        "id": "49yxSDsE78r2"
      },
      "source": [
        "---\n",
        "\n",
        "##  <mark>Activity 1: Some practice with array addition and transposes</mark> "
      ]
    },
    {
      "cell_type": "markdown",
      "metadata": {
        "id": "T9bbQRMq78r2"
      },
      "source": [
        "The following operations are undefined because the shapes cannot be [broadcast](https://numpy.org/doc/stable/user/basics.broadcasting.html) together because they do not have compatible shapes: `A+B`, `A+C`, and `B+C`. \n",
        "\n",
        "- In the code cell below, use the `transpose` method in `numpy` to do the following:\n",
        "\n",
        "    - Add the transpose of `A` to `B` and print the result.\n",
        "    \n",
        "    - Add `A` to the transpose of `B` and print the result.\n",
        "    \n",
        "- In the Markdown cell that follows the code cell, explain the differences in results. Also, explain why it is impossible to add any transpose of `A` or `B` to `C`."
      ]
    },
    {
      "cell_type": "code",
      "execution_count": null,
      "metadata": {
        "id": "1bYy_A1078r3"
      },
      "outputs": [],
      "source": [
        "# Add the transpose of A to B and print the result\n",
        "\n",
        "print(np.transpose(A) + B)\n",
        "\n",
        "# Add A to the transpose of B and print the result\n",
        "\n",
        "print(A + np.transpose(B))\n"
      ]
    },
    {
      "cell_type": "markdown",
      "metadata": {
        "id": "6A0EC3AS78r3"
      },
      "source": [
        "<span style='background:rgba(255,255,0, 0.25); color:black'> Use this Markdown cell to explain the differences in the results above, and explain why it is impossible to add any transpose of `A` or `B` to `C`. </span>\n",
        "\n",
        "The first operation adds the transpose of A to B and the result is a 3x2 matrix. The second operation adds A to the transpose of B and the result is a 2x3 matrix. The two results are different because matrix addition is not commutative.\n",
        "\n",
        "It is impossible to add any transpose of A or B to C because the shapes are not compatible. The transpose of A is a 3x2 matrix and the transpose of B is a 2x3 matrix, but C is a 3x3 matrix. In general, two matrices can be added or subtracted only if they have the same shape.\n",
        "\n",
        "\n",
        "\n"
      ]
    },
    {
      "cell_type": "markdown",
      "metadata": {
        "id": "3ODmmfIW78r4"
      },
      "source": [
        "End of Activity 1.\n",
        "\n",
        "---"
      ]
    },
    {
      "cell_type": "markdown",
      "metadata": {
        "id": "bI3kreqX78r4"
      },
      "source": [
        "---\n",
        "\n",
        "##  <mark>Activity 2: Some practice with operations and the axis parameter</mark> \n",
        "\n",
        "- In the code cell below, use the `mean` method in `numpy` along with `axis` parameters to do the following:\n",
        "\n",
        "    - Add the array containing the mean of each row of `A` to the array containing the mean of each column of `B` and print the result. (The answer should be `[5., 9.]`)\n",
        "    \n",
        "    - Add the array containing the mean of each column of `A` to the array containing the mean of each row of `B` and print the result.\n",
        "    \n",
        "    - Add the array containing the mean of each column of `A` to the array containing the mean of each row of `C` and print the result.\n",
        "    \n",
        "    - Add the array containing the mean of each row of `B` to the array containing the mean of each row of `C` which is then added to the array containing the mean of each column of `C` and print the result.\n",
        "    \n",
        "- In the Markdown cell that follows the code cell, explain why we cannot add the array containing the mean of each row of `A` to the array containing the mean of each row of `C`."
      ]
    },
    {
      "cell_type": "code",
      "execution_count": null,
      "metadata": {
        "id": "qoKe0La678r5"
      },
      "outputs": [],
      "source": [
        "# Adding the array containing the mean of each row of A to the array containing the mean of each column of B\n",
        "\n",
        "row_means_A = np.mean(A, axis=1)\n",
        "col_means_B = np.mean(B, axis=0)\n",
        "result1 = row_means_A + col_means_B\n",
        "print(result1)\n",
        "\n",
        "# Adding the array containing the mean of each column of A to the array containing the mean of each row of B\n",
        "\n",
        "col_means_A = np.mean(A, axis=0)\n",
        "row_means_B = np.mean(B, axis=1)\n",
        "result2 = col_means_A + row_means_B\n",
        "print(result2)\n",
        "\n",
        "# Adding the array containing the mean of each column of A to the array containing the mean of each row of C\n",
        "\n",
        "col_means_C = np.mean(C, axis=0)\n",
        "row_means_C = np.mean(C, axis=1)\n",
        "result3 = col_means_A + row_means_C\n",
        "print(result3)\n",
        "\n",
        "# Adding the array containing the mean of each row of B to the array containing the mean of each row of C \n",
        "# which is then added to the array containing the mean of each column of C\n",
        "\n",
        "row_means_B = np.mean(B, axis=1)\n",
        "row_means_C = np.mean(C, axis=1)\n",
        "col_means_C = np.mean(C, axis=0)\n",
        "result4 = row_means_B[:, np.newaxis] + row_means_C + col_means_C\n",
        "print(result4)\n"
      ]
    },
    {
      "cell_type": "markdown",
      "metadata": {
        "id": "FJOd0YKj78r5"
      },
      "source": [
        "<span style='background:rgba(255,255,0, 0.25); color:black'> Use this Markdown cell to explain why we cannot add the mean of each row of `A` to the mean of each row of `C`. </span>\n",
        "\n",
        "We cannot add the array containing the mean of each row of A to the array containing the mean of each row of C because they have different shapes. The array containing the mean of each row of A has shape (2,), while the array containing the mean of each row of C has shape (3,). In order to add these arrays, they need to have the same shape.\n",
        "\n",
        "\n",
        "\n"
      ]
    },
    {
      "cell_type": "markdown",
      "metadata": {
        "id": "NlWJ0DAg78r6"
      },
      "source": [
        "End of Activity 2.\n",
        "\n",
        "---"
      ]
    },
    {
      "cell_type": "markdown",
      "metadata": {
        "id": "27sms1ti78r6"
      },
      "source": [
        "---\n",
        "\n",
        "##  <mark>Activity 3: Some practice with transposes and array slicing</mark> \n",
        "\n",
        "\n",
        "- In the code cell below, use array slicing to do the following:\n",
        "\n",
        "    - Add `A` to the first two rows of `C` and print the result.\n",
        "    \n",
        "    - Add the transpose of `A` to the first two columns of `C` and print the result. \n",
        "    \n",
        "    - Add `B` to the last two columns of `C` and print the result.\n",
        "    \n",
        "    - Even though they are not the same shape, add the last column of the transpose of `A` (as a 2D array) to the last two columns of `C` and print the result. *Hint: `[:,-1:]` and `[:,-1]` do not produce the same array shapes. One will produce the desired 2D array shape.*"
      ]
    },
    {
      "cell_type": "code",
      "execution_count": null,
      "metadata": {
        "id": "OQSJTWFu78r6"
      },
      "outputs": [],
      "source": [
        "# Adding A to the first two rows of C\n",
        "\n",
        "C[:2,:] += A\n",
        "print(C)\n",
        "\n",
        "# Adding the transpose of A to the first two columns of C\n",
        "\n",
        "C[:,:2] += A.T\n",
        "print(C)\n",
        "\n",
        "# Adding B to the last two columns of C\n",
        "\n",
        "C[:,-2:] += B\n",
        "print(C)\n",
        "\n",
        "# Adding the last column of the transpose of A (as a 2D array) to the last two columns of C\n",
        "\n",
        "C[:,-2:] += A.T[:,-1:]\n",
        "print(C)"
      ]
    },
    {
      "cell_type": "markdown",
      "metadata": {
        "id": "dA55SPmf78r7"
      },
      "source": [
        "End of Activity 3.\n",
        "\n",
        "---"
      ]
    }
  ],
  "metadata": {
    "kernelspec": {
      "display_name": "Python 3",
      "language": "python",
      "name": "python3"
    },
    "language_info": {
      "codemirror_mode": {
        "name": "ipython",
        "version": 3
      },
      "file_extension": ".py",
      "mimetype": "text/x-python",
      "name": "python",
      "nbconvert_exporter": "python",
      "pygments_lexer": "ipython3",
      "version": "3.8.6"
    },
    "colab": {
      "provenance": [],
      "include_colab_link": true
    }
  },
  "nbformat": 4,
  "nbformat_minor": 0
}