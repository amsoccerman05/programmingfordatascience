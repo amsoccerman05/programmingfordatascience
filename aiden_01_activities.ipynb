{
  "cells": [
    {
      "cell_type": "markdown",
      "metadata": {
        "id": "view-in-github",
        "colab_type": "text"
      },
      "source": [
        "<a href=\"https://colab.research.google.com/github/amsoccerman05/programmingfordatascience/blob/main/aiden_01_activities.ipynb\" target=\"_parent\"><img src=\"https://colab.research.google.com/assets/colab-badge.svg\" alt=\"Open In Colab\"/></a>"
      ]
    },
    {
      "cell_type": "markdown",
      "metadata": {
        "id": "Q5jeDFl2-sW-"
      },
      "source": [
        "# Math  1376: Programming for Data Science\n",
        "---"
      ]
    },
    {
      "cell_type": "markdown",
      "metadata": {
        "id": "M44V9mj1-sXA"
      },
      "source": [
        "## External activities for 01-Jupyter-lecture\n",
        "---\n",
        "\n",
        "**Expected time to completion: 1 hour**"
      ]
    },
    {
      "cell_type": "markdown",
      "metadata": {
        "id": "1hUetkdd-sXA"
      },
      "source": [
        "---\n",
        "\n",
        "## Activity 1: Editing Markdown\n",
        "\n",
        "- Edit the Markdown cell below to put the course topics in a *list* format (with bullet points) to improve readability.\n",
        "\n",
        "- Create a new *list* (using bullet points) with at least two items from the course topics/applications that you are particularly interested in learning more about."
      ]
    },
    {
      "cell_type": "markdown",
      "metadata": {
        "id": "FlTZbx9k-sXB"
      },
      "source": [
        "<mark>Put items listed below in a list format with bullet points.</mark>\n",
        "\n",
        "This course covers the following topics: ~~Jupiter~~Jupyter, Python *basics* (variable assignment, data types, importing/using libraries, and plotting), more **advanced** programming skills (functions, loops, and modules), computational ***applications***, web-scraping and I/O, and the **basics** of ***machine learning***.\n",
        "\n",
        "<mark>Make your lists below.</mark>\n",
        "\n",
        "This course covers the following topics:\n",
        "\n",
        "- Juypter\n",
        "- Python *basics*\n",
        "- Data types\n",
        "- Importing/using libraries\n",
        "- More **advanced** programming skills (functions, loops, and modules)\n",
        "- Computational ***applications***\n",
        "- Web-Scraping and I/O\n",
        "- The  **basics** of ***machine learning***\n",
        "\n"
      ]
    },
    {
      "cell_type": "markdown",
      "metadata": {
        "id": "Sx7iVkZp-sXB"
      },
      "source": [
        "End of Activity 1.\n",
        "\n",
        "---"
      ]
    },
    {
      "cell_type": "markdown",
      "metadata": {
        "id": "M3cvdq1T-sXB"
      },
      "source": [
        "---\n",
        "\n",
        "## Activity 2: Making code *readable*\n",
        "\n",
        "- Add blank lines between each of the five lines of code below to improve readability.\n",
        "\n",
        "- Add relevant comments to each line of code. \n",
        "\n",
        "- **Create** a Markdown cell below this code cell (and before the Markdown cell containing the text \"End of Activity 2.\") to explain the output of the code cell."
      ]
    },
    {
      "cell_type": "code",
      "execution_count": 1,
      "metadata": {
        "id": "x5oO0Zmj-sXC",
        "colab": {
          "base_uri": "https://localhost:8080/"
        },
        "outputId": "589c04d1-2576-47ce-8e53-374e8d1701c8"
      },
      "outputs": [
        {
          "output_type": "execute_result",
          "data": {
            "text/plain": [
              "9"
            ]
          },
          "metadata": {},
          "execution_count": 1
        }
      ],
      "source": [
        "x = 4 # assign the variable x 4\n",
        "\n",
        "x+5 # take x and add 5\n",
        "\n",
        "x = x+5 # X cannot get double assigned\n",
        "\n",
        "x+7 # add 7 to x\n",
        "\n",
        "x # x"
      ]
    },
    {
      "cell_type": "markdown",
      "source": [
        "This block of code creates a variable \"X\" and assigns it the value 4. We then take X and add a value of 5. We now have X equals to 9, therefore the output equals 9."
      ],
      "metadata": {
        "id": "jlh_sUfu1DVv"
      }
    },
    {
      "cell_type": "markdown",
      "metadata": {
        "id": "4AeRsdIC-sXD"
      },
      "source": [
        "End of Activity 2.\n",
        "\n",
        "---"
      ]
    },
    {
      "cell_type": "markdown",
      "metadata": {
        "id": "s_03YOm0-sXD"
      },
      "source": [
        "## Activity 3: TeX yourself\n",
        "\n",
        "In the cell below, use TeX to typeset the **standard form** for a mass-spring-damper model found on the [Wikipedia page](https://en.wikipedia.org/wiki/Mass-spring-damper_model) and visualized below.\n",
        "\n",
        "*Remember to use a bullet list to describe what each term means in this formula (the $m$, $k$, and $c$ may not be obvious, but from the image we see that $m$ is mass, $k$ is the spring constant, and $c$ is a coefficient of friction associated with the damping).*\n",
        "\n",
        "![A mass-spring-damper system](https://upload.wikimedia.org/wikipedia/en/7/79/Mass_spring_damper.png)\n",
        "\n",
        "*Hints: The equation on Wikipedia is written using the \"dot\" notation for derivatives presented in the supplemental lecture notebook on Markdown Tex Examples. The Greek letters involved in this equation are omega and zeta.*\n",
        "\n",
        "***Encouraged but not required part of this activity:*** Use TeX to also typeset the *sum of forces on the mass* equation.\n",
        "\n"
      ]
    },
    {
      "cell_type": "markdown",
      "metadata": {
        "id": "YTtcvL_P-sXE"
      },
      "source": [
        "<mark> PUT YOUR ANSWER IN THIS CELL.</mark> \n",
        "\n",
        "The standard form for a mass-spring-damper model is:\n",
        "\n",
        "$\\frac{dx}{dt} + 2\\zeta\\omega_nx + \\omega_n^2x = \\frac{F}{m}$\n",
        "\n",
        "where:\n",
        "\n",
        "- $x$ is the displacement of the mass\n",
        "- $m$ is the mass of the object\n",
        "- $\\frac{dx}{dt}$ is the velocity of the mass\n",
        "- $F$ is the applied force\n",
        "- $\\omega_n$ is the natural frequency of the system\n",
        "- $2\\zeta\\omega_n$ is the damping coefficient\n",
        "\n",
        "Sum of forces on the mass is:\n",
        "\n",
        "$F = ma = m\\frac{d^2x}{dt^2}$\n",
        "\n",
        "where:\n",
        "- $a$ is the acceleration of the mass.\n",
        "\n",
        "\n",
        "\n"
      ]
    },
    {
      "cell_type": "markdown",
      "metadata": {
        "id": "9h2E-WRV-sXE"
      },
      "source": [
        "End of Activity 3.\n",
        "\n",
        "---"
      ]
    }
  ],
  "metadata": {
    "kernelspec": {
      "display_name": "Python 3",
      "language": "python",
      "name": "python3"
    },
    "language_info": {
      "codemirror_mode": {
        "name": "ipython",
        "version": 3
      },
      "file_extension": ".py",
      "mimetype": "text/x-python",
      "name": "python",
      "nbconvert_exporter": "python",
      "pygments_lexer": "ipython3",
      "version": "3.8.8"
    },
    "colab": {
      "provenance": [],
      "include_colab_link": true
    }
  },
  "nbformat": 4,
  "nbformat_minor": 0
}