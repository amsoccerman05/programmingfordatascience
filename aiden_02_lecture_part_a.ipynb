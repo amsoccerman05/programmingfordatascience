{
  "cells": [
    {
      "cell_type": "markdown",
      "metadata": {
        "id": "view-in-github",
        "colab_type": "text"
      },
      "source": [
        "<a href=\"https://colab.research.google.com/github/amsoccerman05/programmingfordatascience/blob/main/aiden_02_lecture_part_a.ipynb\" target=\"_parent\"><img src=\"https://colab.research.google.com/assets/colab-badge.svg\" alt=\"Open In Colab\"/></a>"
      ]
    },
    {
      "cell_type": "markdown",
      "metadata": {
        "id": "3Nosi4VEubul"
      },
      "source": [
        "# Math  1376: Programming for Data Science\n",
        "---"
      ]
    },
    {
      "cell_type": "markdown",
      "metadata": {
        "id": "6Vg_Ct6jubup"
      },
      "source": [
        "## Module 02: Python basics\n",
        "---\n",
        "\n",
        "We focus on presenting the ***basics*** of Python for scientific computing. \n",
        "This is intended only to help break down the barriers of entry into using Python and some of the basic tools commonly used in scientific computing. \n",
        "\n",
        "While we will progress through more advanced topics in this course, no single course (or sequence of courses for that matter) can possibly cover all that Python has to offer. \n",
        "\n",
        "For more thorough (and advanced) tutorials over some of the topics we are touching upon in these lectures, we recommend bookmarking https://docs.python.org/3/tutorial/index.html for more details on Python basics (e.g., data structures, conditionals, and loops) and http://scipy.org/ for more details on useful libraries that unlock the power of Python for scientific computing.\n",
        "\n",
        "Remember, we are using Jupyter Notebooks (http://jupyter.org/) in these lectures. "
      ]
    },
    {
      "cell_type": "markdown",
      "metadata": {
        "id": "ENSsjdTPubuq"
      },
      "source": [
        "## Learning Objectives for Part (a)\n",
        "---\n",
        "\n",
        "- Understand some of the more commonly used data types.\n",
        "\n",
        "\n",
        "- Assign values to variables and perform basic *arithmetic* operations.\n",
        "\n",
        "\n",
        "\n",
        "- Understand how to read error messages to do some basic debugging with the mini-exercises.\n",
        "\n",
        "\n",
        "Along the way, we will use some simple ***built-in functions within Python.*** \n",
        "In particular, we will make use of the functions `print`, `type`, and `range` early on in this lecture. \n",
        "\n",
        "Take a moment and review some of the documentation on these available at https://docs.python.org/3/library/functions.html."
      ]
    },
    {
      "cell_type": "markdown",
      "metadata": {
        "id": "3q7yLC_Zubur"
      },
      "source": [
        "## Notebook contents <a name='Contents'></a>\n",
        "\n",
        "- [Part (a) and Lecture Video: Introduction to variables](#Introduction)\n",
        "    \n",
        "  - [Activity 1: Reading error messages and fixing code](#activity-errors)\n",
        "    \n",
        "  - [Activity 2: More practice fixing errors](#activity-more-errors)\n",
        "    \n",
        "  - [Activity 3: Practice with casting and printing](#activity-casting)\n",
        "    \n",
        "  - [Activity: Summary](#activity-summary)"
      ]
    },
    {
      "cell_type": "markdown",
      "metadata": {
        "id": "E2kZUg2Vubus"
      },
      "source": [
        "## Part (a) and Lecture Video: Introduction to variables<a name='Introduction'/>\n",
        "\n",
        "**Expected time to completion: 3 hours**\n",
        "\n",
        "<mark> Run the code cell below and click the \"play\" button to see the recorded lecture associated with this notebook.</mark> "
      ]
    },
    {
      "cell_type": "code",
      "execution_count": null,
      "metadata": {
        "id": "z0BNW8GQubut",
        "outputId": "c805724a-6066-4d00-defd-9fdd30b8fe0f",
        "colab": {
          "base_uri": "https://localhost:8080/",
          "height": 321
        }
      },
      "outputs": [
        {
          "output_type": "execute_result",
          "data": {
            "text/plain": [
              "<IPython.lib.display.YouTubeVideo at 0x7fc60d956a90>"
            ],
            "text/html": [
              "\n",
              "        <iframe\n",
              "            width=\"800\"\n",
              "            height=\"300\"\n",
              "            src=\"https://www.youtube.com/embed/ZVYmqwk9CMQ\"\n",
              "            frameborder=\"0\"\n",
              "            allowfullscreen\n",
              "        ></iframe>\n",
              "        "
            ],
            "image/jpeg": "[encoded data removed]"
          },
          "metadata": {},
          "execution_count": 1
        }
      ],
      "source": [
        "from IPython.display import YouTubeVideo\n",
        "\n",
        "YouTubeVideo('ZVYmqwk9CMQ', width=800, height=300)"
      ]
    },
    {
      "cell_type": "markdown",
      "metadata": {
        "id": "_mNJmII4ubuu"
      },
      "source": [
        "### Integers, floats, and casting:\n",
        "\n",
        "<mark> ***Key Points:*** </mark>\n",
        "\n",
        "- Integers are whole numbers (positive or negative) that are specified without decimals. Examples are 1, 2, 0, and -10. \n",
        "\n",
        "- Floats (or floating point numbers) are finite representations of real numbers with a ***finite number of decimal places***. Examples are 1.1, 2.3, 0.07, and -10.0.\n",
        "\n",
        "- An arithmetic operation will **cast** the result as either the type of the ***most general variable used in the operation*** or as the type of ***output generally expected from the operation***, so whether or not we worry about casting depends upon what result we desire from the operation. We will see later on in this notebook how to easily specify casting."
      ]
    },
    {
      "cell_type": "code",
      "execution_count": null,
      "metadata": {
        "id": "giZITwjlubuv"
      },
      "outputs": [],
      "source": [
        "# Here, we define some variables used below.\n",
        "one_int = 1\n",
        "\n",
        "# While there is no need to do 1.0, it is recommended since 1. just looks weird\n",
        "# but you may see 1. (or 2. or 3.) on occasion \n",
        "one_float = 1.0\n",
        "\n",
        "two_int = 2"
      ]
    },
    {
      "cell_type": "code",
      "execution_count": null,
      "metadata": {
        "id": "9gMuIghPubuw"
      },
      "outputs": [],
      "source": [
        "# We can print the types of variables using the print and type commands\n",
        "\n",
        "print() #This prints a blank line. \n",
        "# Why print a blank line? Using spaces and blank lines when printing makes \n",
        "# output more readable\n",
        "\n",
        "# Blank lines in code also help readability like the one I just used between \n",
        "# this comment and the one above.\n",
        "\n",
        "print( 'one_int is of type', type(one_int), \n",
        "       'and one_float is of type', type(one_float) )\n",
        "# Breaking up long function calls like the one above across many lines helps \n",
        "# readability\n",
        "\n",
        "# But, you can only break up long function calls in certain appropriate places"
      ]
    },
    {
      "cell_type": "code",
      "execution_count": null,
      "metadata": {
        "id": "y1Tetv9subux"
      },
      "outputs": [],
      "source": [
        "# You can also use the \\n for a \"newline\" within the text part of a print to\n",
        "# help with formatting the text. It is useful for creating blank lines within \n",
        "# some printed text as well.\n",
        "print( 'one_int is of type', type(one_int), \n",
        "       '\\none_float is of type', type(one_float) )"
      ]
    },
    {
      "cell_type": "code",
      "execution_count": null,
      "metadata": {
        "id": "_iFpruYLubux"
      },
      "outputs": [],
      "source": [
        "# Another showcase of \\n commands to create some nice white space\n",
        "print( 'one_int is of type', type(one_int), \n",
        "       '\\n\\none_float is of type', type(one_float) )"
      ]
    },
    {
      "cell_type": "code",
      "execution_count": null,
      "metadata": {
        "id": "SNHNtQTNubuy"
      },
      "outputs": [],
      "source": [
        "# Another option\n",
        "print( 'one_int is of type\\n', type(one_int), \n",
        "       '\\n\\none_float is of type\\n', type(one_float) )"
      ]
    },
    {
      "cell_type": "code",
      "execution_count": null,
      "metadata": {
        "id": "x58yy57cubuy"
      },
      "outputs": [],
      "source": [
        "print( 'The variable two_int is type\\n', type(two_int) )\n",
        "\n",
        "print( '\\nThe variable defined by one_int+two_int is type\\n', \n",
        "       type(one_int+two_int) )\n",
        "\n",
        "print( '\\nThe variable defined by one_int/two_int is type\\n', \n",
        "       type(one_int/two_int) )\n",
        "\n",
        "print( '\\nThe variable defined by one_float/two_int is type\\n', \n",
        "       type(one_float/two_int) )"
      ]
    },
    {
      "cell_type": "code",
      "execution_count": null,
      "metadata": {
        "id": "cqG2joeuubuz"
      },
      "outputs": [],
      "source": [
        "# one plus one may be 2 or 2.0\n",
        "print( 'one_int + one_int = ', one_int + one_int )\n",
        "\n",
        "print( '\\none_int + one_float = ', one_int + one_float )\n",
        "\n",
        "print( '\\nThe variable defined by one_int + one_float is type\\n', \n",
        "         type(one_int + one_float) )"
      ]
    },
    {
      "cell_type": "markdown",
      "metadata": {
        "id": "D8tIXxDMubuz"
      },
      "source": [
        "### \"Default\" Casting\n",
        "\n",
        "Below, we observe the output of typical division.\n",
        "\n",
        "***This demonstrates how an arithmetic operation does casting.***"
      ]
    },
    {
      "cell_type": "code",
      "execution_count": null,
      "metadata": {
        "id": "iWrGIvRIubuz"
      },
      "outputs": [],
      "source": [
        "print( 'one_int/two_int =', one_int, '/', two_int, '=',  one_int/two_int )\n",
        "\n",
        "three = 3  # What type is this?\n",
        "\n",
        "print( '\\ntwo_int/three =', two_int, '/', three, '=', two_int/three )\n",
        "\n",
        "neg_one = -1.0  # What type is this?\n",
        "\n",
        "print( '\\nneg_one/two_int =', neg_one, '/', two_int, '=', neg_one/two_int )"
      ]
    },
    {
      "cell_type": "markdown",
      "metadata": {
        "id": "gi0307_2ubu0"
      },
      "source": [
        "The command `//` performs ***integer division***, which is sometimes claled ***floor division*** because it *rounds down to the nearest integer*. \n",
        "This is useful in a variety of settings that we do not get into here. For now, it is enough to know that this is something that can be useful. \n",
        "\n",
        "Recall that an arithmetic operation will **cast** the result as either the type of the ***most general variable used in the operation*** or as the type of ***output generally expected from the operation***. \n",
        "Let's observe the behavior of `//` below when the inputs are both integers and in cases where at least one input is a float."
      ]
    },
    {
      "cell_type": "code",
      "execution_count": null,
      "metadata": {
        "id": "hYrJXZy9ubu0"
      },
      "outputs": [],
      "source": [
        "# Here, we go back to print() commands for blank lines instead of using \\n just  \n",
        "# so you remember that you always have options\n",
        "print( 'one_int//two_int =', one_int, '//', two_int, '=', one_int//two_int )\n",
        "\n",
        "print()\n",
        "print( 'one_float//two_int =', one_float, '//', two_int, '=',  one_float//two_int )\n",
        "\n",
        "print()\n",
        "print( 'neg_one//two_int =', neg_one, '//', two_int, '=', neg_one//two_int )\n",
        "\n",
        "print()\n",
        "print( 'two_int//three =', two_int, '//', three, '=', two_int//three )\n",
        "\n",
        "print()\n",
        "print( 'neg_one//three =', neg_one, '//', three, '=', neg_one//three )"
      ]
    },
    {
      "cell_type": "markdown",
      "metadata": {
        "id": "ksF3fkzJubu0"
      },
      "source": [
        "## <mark>Instructor-Led Activity (shown in video): Reading error messages and fixing code</mark> \n",
        "\n",
        "The code block below will not execute correctly. \n",
        "\n",
        "- Try running it. \n",
        "\n",
        "- Read the error messages as you systematically fix it."
      ]
    },
    {
      "cell_type": "code",
      "execution_count": null,
      "metadata": {
        "id": "GozqcOkPubu1"
      },
      "outputs": [],
      "source": [
        "# Another name for 0.5, which is 1/2, is one-half\n",
        "# i couldnt get this program to work without defining one_int and two_int\n",
        "one_int = 1\n",
        "\n",
        "two_int = 2\n",
        "\n",
        "one_half = one_int/two_int\n",
        "\n",
        "print(' The output of one_int/two_int is ', one_half,\n",
        "      ' is of type ', type(one_half))\n",
        "\n",
        "print()\n",
        "\n",
        "# The number zero is certainly not one half even though it is the output of 1//2\n",
        "not_one_half = one_int//two_int\n",
        "\n",
        "print(' But, the output of one_int//two_int is ', not_one_half,\n",
        "      ' is of type ', type(not_one_half) )"
      ]
    },
    {
      "cell_type": "markdown",
      "metadata": {
        "id": "IFM_QM1Dubu1"
      },
      "source": [
        "---\n",
        "\n",
        "## <mark>Activity 1: Reading error messages and fixing code</mark> <a name='activity-errors'/>\n",
        "\n",
        "The code block below will not execute correctly. \n",
        "\n",
        "- Try running it. \n",
        "\n",
        "- Read the error messages as you systematically fix it to *define* and *print* the integer 4 stored as the variable `four`."
      ]
    },
    {
      "cell_type": "code",
      "execution_count": null,
      "metadata": {
        "id": "bBaaUZ0Tubu1"
      },
      "outputs": [],
      "source": [
        "four = 4\n",
        "\n",
        "print('The variable four =', four, ' is of type', type(four))"
      ]
    },
    {
      "cell_type": "markdown",
      "metadata": {
        "id": "cg_7JeUVubu1"
      },
      "source": [
        "End of Activity 1.\n",
        "\n",
        "---"
      ]
    },
    {
      "cell_type": "markdown",
      "metadata": {
        "id": "ibeCglq-ubu2"
      },
      "source": [
        "### User-specified casting:\n",
        "\n",
        "<mark> ***Key Points:***</mark>\n",
        "\n",
        "- We can specify how we want an integer or float to be treated to allow for greater control in the code. This is also referred to as **casting** whenever we specify that a variable should be treated as a different type from what it is in a particular context.\n",
        "\n",
        "- We show just two functions for casting below,  `int` and `float`, but there are more. Can you find another one used later in this notebook?\n",
        "\n",
        "- Note that casting a variable as a different type does not actually alter the original variable type."
      ]
    },
    {
      "cell_type": "code",
      "execution_count": null,
      "metadata": {
        "id": "ATHrlpfWubu2"
      },
      "outputs": [],
      "source": [
        "two = one_int + one_float\n",
        "\n",
        "print()\n",
        "print( 'two =', two, 'is of type ', type(two) )"
      ]
    },
    {
      "cell_type": "code",
      "execution_count": null,
      "metadata": {
        "id": "TW6m3iq7ubu2"
      },
      "outputs": [],
      "source": [
        "two = one_int + int(one_float)\n",
        "\n",
        "print()\n",
        "print( 'Two =', two, 'is now of type', type(two) )\n",
        "\n",
        "print()\n",
        "print( 'Did one_float change type?', type(one_float) )"
      ]
    },
    {
      "cell_type": "code",
      "execution_count": null,
      "metadata": {
        "id": "aQafwGExubu3"
      },
      "outputs": [],
      "source": [
        "x = -3.7\n",
        "\n",
        "print()\n",
        "print( 'x =', x, 'is of type', type(x) )\n",
        "\n",
        "print()\n",
        "print( 'int(x) =', int(x), 'is an integer' )\n",
        "\n",
        "print()\n",
        "print( 'We can also change integers to floats.' )\n",
        "\n",
        "print()\n",
        "print( 'float(ont_int) =', float(one_int), 'defines a float.')"
      ]
    },
    {
      "cell_type": "markdown",
      "metadata": {
        "id": "Woen_uWWubu3"
      },
      "source": [
        "---\n",
        "\n",
        "## <mark>Activity 2: More practice fixing errors</mark> <a name='activity-more-errors'>\n",
        "\n",
        "- Fill in the missing pieces of the code cell below to define variable `y` as a floating point number version of `int(x)` and print both `y` and `x`.\n",
        "\n",
        "- Create a markdown cell below the code cell to explain what you think the code used to define `y` is doing."
      ]
    },
    {
      "cell_type": "code",
      "execution_count": null,
      "metadata": {
        "id": "2mWhzQy6ubu3"
      },
      "outputs": [],
      "source": [
        "x = 1.7583\n",
        "\n",
        "y = float( x )  # y should cast int(x) as a float\n",
        "\n",
        "print()\n",
        "print( 'y =', y, 'is of type', type(y),\n",
        "'and x =', x , 'is of type', type(x) )"
      ]
    },
    {
      "cell_type": "markdown",
      "source": [
        "The above code is defining a variable y as a float version of x. It is doing this by using the float() function to cast x as a float. The code then prints out the values of both y and x, as well as their respective data types."
      ],
      "metadata": {
        "id": "72Tj41AfdbTf"
      }
    },
    {
      "cell_type": "markdown",
      "metadata": {
        "id": "WrxkzLqWubu3"
      },
      "source": [
        "End of Activity 2.\n",
        "\n",
        "---"
      ]
    },
    {
      "cell_type": "markdown",
      "metadata": {
        "id": "pGBwo9BIubu3"
      },
      "source": [
        "### Exponents of variables\n",
        "\n",
        "<mark>Raising a variable to a power is done using `**` NOT `^`.</mark>"
      ]
    },
    {
      "cell_type": "code",
      "execution_count": null,
      "metadata": {
        "id": "r0vg0R6rubu4"
      },
      "outputs": [],
      "source": [
        "pt_one = 0.1\n",
        "\n",
        "print()\n",
        "print( '0.1 cubed =', pt_one**3 )"
      ]
    },
    {
      "cell_type": "markdown",
      "metadata": {
        "id": "H244L0xTubu4"
      },
      "source": [
        "### Complex-valued variables\n",
        "\n",
        "<mark> ***Key points:*** </mark>\n",
        "\n",
        "- Python uses the electrical engineering $j$ convention to denote imaginary components, i.e., $j=\\sqrt{-1}$.\n",
        "\n",
        "\n",
        "- The letter `j` can still be used as a variable for another number with no issues. In fact, is it commonly used as a variable when we \"loop\" through operations as we will see in future notebooks."
      ]
    },
    {
      "cell_type": "code",
      "execution_count": null,
      "metadata": {
        "id": "6vV6DkDeubu4"
      },
      "outputs": [],
      "source": [
        "j = 3.68439876  # Clearly not the square root of negative one\n",
        "\n",
        "alpha = 3.0-4.0j  # 3.0 - 4.0j is not equal to 3.0-4.0*j, see below\n",
        "\n",
        "print()\n",
        "print( alpha, 'is of type', type(alpha) )\n",
        "\n",
        "print()\n",
        "print( alpha, ' has length', abs(alpha) )\n",
        "\n",
        "print()\n",
        "print( 'If j =', j, 'then 3.0-4.0*j =', 3.0-4.0*j )"
      ]
    },
    {
      "cell_type": "markdown",
      "metadata": {
        "id": "fo4DlfVUubu4"
      },
      "source": [
        "### Strings\n",
        "\n",
        "<mark> ***Key points:*** </mark>\n",
        "\n",
        "- Many binary operations do not apply to strings, but one can do + to concatenate two strings into one. \n",
        "\n",
        "- ***Concatenation is particularly useful when creating filenames for saving/loading data in loops.*** I use this a lot!\n",
        "\n",
        "- We can also create multiples of the text."
      ]
    },
    {
      "cell_type": "code",
      "execution_count": null,
      "metadata": {
        "id": "59Ej4WRiubu4"
      },
      "outputs": [],
      "source": [
        "text = 'Hello'\n",
        "text += ', World : '  # This is the same as text = text + ', World : '\n",
        "\n",
        "print()\n",
        "print( text )\n",
        "\n",
        "text *= 3  # This is the same as text = 3*text\n",
        "print()\n",
        "print( text )"
      ]
    },
    {
      "cell_type": "markdown",
      "metadata": {
        "id": "4pvzYAIzubu5"
      },
      "source": [
        "Due to casting, printing a variable without its type may lead you into thinking a variable is of a different type than it actually is."
      ]
    },
    {
      "cell_type": "code",
      "execution_count": null,
      "metadata": {
        "id": "LgalMQz4ubu5"
      },
      "outputs": [],
      "source": [
        "one_str = '1'\n",
        "\n",
        "print()\n",
        "print( one_str, 'is of type', type(one_str))\n",
        "\n",
        "one_int = int(one_str)\n",
        "\n",
        "print()\n",
        "print( one_int, 'is of type', type(one_int))\n",
        "\n",
        "one_float = float(one_str)\n",
        "\n",
        "print()\n",
        "print( one_float, 'is of type', type(one_float))\n",
        "\n",
        "one_float_str = str(one_float)\n",
        "\n",
        "print()\n",
        "print( one_float_str, 'is of type', type(one_float_str))"
      ]
    },
    {
      "cell_type": "code",
      "execution_count": null,
      "metadata": {
        "id": "Km3rjiHNubu5"
      },
      "outputs": [],
      "source": [
        "# String multiplication is useful for creating clear separation between printed outputs\n",
        "print( one_str, 'is of type', type(one_str))\n",
        "\n",
        "print( '-'*50 ) # Try ~, -, =, *, +, and any other symbol to see which you prefer\n",
        "\n",
        "print( one_int, 'is of type', type(one_int))"
      ]
    },
    {
      "cell_type": "code",
      "execution_count": null,
      "metadata": {
        "id": "cQDCYIsHubu5"
      },
      "outputs": [],
      "source": [
        "# Sometimes we want to evaluate mathematical expressions stored as strings\n",
        "# The eval function is useful.\n",
        "my_expression = 'one_float + one_float'\n",
        "print(my_expression)\n",
        "print(eval(my_expression))"
      ]
    },
    {
      "cell_type": "markdown",
      "metadata": {
        "id": "1gra3YWTubu6"
      },
      "source": [
        "## <mark>Instructor-Led Activity (shown in video): Practice with casting and printing</mark> \n",
        "\n",
        "Use the comments in the code cell below to help fill in the missing pieces of the code that creates and prints the string variable `str_var`."
      ]
    },
    {
      "cell_type": "code",
      "execution_count": null,
      "metadata": {
        "id": "eJ5v33swubu6"
      },
      "outputs": [],
      "source": [
        "x = '0.5'\n",
        "\n",
        "# cast x as a float and then cast as a string\n",
        "x_float_str = str(float(x))\n",
        "\n",
        "# cast x as an int and then cast as a string - you need to use eval here!\n",
        "x_int_str = str(int(eval(x)))\n",
        "\n",
        "str_var = x + ' is the variable we start with, \\n'\n",
        "\n",
        "str_var += 'which is then turned into the float ' + x_float_str \n",
        "\n",
        "str_var += ',\\nand is also turned into the int ' + x_int_str\n",
        "\n",
        "print()\n",
        "print(str_var)"
      ]
    },
    {
      "cell_type": "markdown",
      "metadata": {
        "id": "u6mDxFiqubu6"
      },
      "source": [
        "---\n",
        "\n",
        "## <mark>Activity 3: Practice with casting and printing</mark> <a name='activity-casting'/>\n",
        "\n",
        "Use the comments in the code cell below to help fill in the missing pieces of the code that creates and prints the string variable `str_var`."
      ]
    },
    {
      "cell_type": "code",
      "execution_count": null,
      "metadata": {
        "id": "d3bRMntbubu6"
      },
      "outputs": [],
      "source": [
        "x = 3.14159\n",
        "\n",
        "x_str = str(x) # cast x as a string\n",
        "\n",
        "x_int_str = str(int(x))  # first cast x as an int and then cast as a string\n",
        "\n",
        "str_var = x_str + ' is a reasonable approximation of pi.'\n",
        "\n",
        "str_var += ' ' + x_int_str + ' is a terrible approximation of pi.'\n",
        "\n",
        "print()\n",
        "print(str_var)"
      ]
    },
    {
      "cell_type": "markdown",
      "metadata": {
        "id": "kx7i1ZTSubu6"
      },
      "source": [
        "End of Activity 3.\n",
        "\n",
        "---"
      ]
    },
    {
      "cell_type": "markdown",
      "metadata": {
        "id": "ieHlps6gubu7"
      },
      "source": [
        "### Who's Who in Memory (the first magic command)\n",
        "\n",
        "We have now created quite a few variables that are stored in memory.\n",
        "So, let us take a second and discuss how we can view what variables are and their types in a convenient way.\n",
        "\n",
        "<mark> ***Key points:*** </mark>\n",
        "\n",
        "- IPython \"magic\" commands are conventionally prefaced by %. \n",
        "\n",
        "   ***If you run these commands in a non-interactive Python environment, then they will not work. You typically only include these commands as you are debugging code in an interactive environment such as an IPython terminal or a Jupyter Notebook.***\n",
        "\n",
        "\n",
        "- The `%whos` command is particularly useful for debugging as it returns all variables in memory along with their type."
      ]
    },
    {
      "cell_type": "code",
      "execution_count": null,
      "metadata": {
        "id": "oy2vS-m7ubu7"
      },
      "outputs": [],
      "source": [
        "%whos"
      ]
    },
    {
      "cell_type": "code",
      "execution_count": null,
      "metadata": {
        "id": "l9QzYoKmubu7"
      },
      "outputs": [],
      "source": [
        "%lsmagic  # Lists all available magic commands"
      ]
    },
    {
      "cell_type": "markdown",
      "metadata": {
        "id": "KbTg-BvOubu7"
      },
      "source": [
        "### Python Lists\n",
        "\n",
        "Okay, it is time to finish this notebook with a very important variable type.\n",
        "\n",
        "<mark> ***Key points:*** </mark>\n",
        "\n",
        "\n",
        "- Lists are ***ordered arrays*** of almost any type of variable or mixed-types of variables you can think of using in Python. You can even make a ***list of lists***. You use lists when the order matters in the code, e.g., when you plan on looping through the elements of the list in some ordered way. Other popular ways to handle data structures include dictionaries and sets (e.g., see https://docs.python.org/3/tutorial/datastructures.html).\n",
        "\n",
        "\n",
        "- Indexing ***starts at zero***. This means that the first element of a list is indexed by a zero, the second element is indexed by 1, and so on. If it seems confusing at first, don't worry, you'll get use to it. This is also discussed below in greater detail when using arrays."
      ]
    },
    {
      "cell_type": "code",
      "execution_count": null,
      "metadata": {
        "id": "POVB-1Nhubu7"
      },
      "outputs": [],
      "source": [
        "float_list = [1.0, 2.0, 3.0]  # list of floats  \n",
        "\n",
        "print()\n",
        "print( 'float_list = ', float_list )\n",
        "\n",
        "print()\n",
        "print( type(float_list) )\n",
        "\n",
        "print()\n",
        "print( 'float_list*2 = ', float_list*2 )  # What do you think this should produce?\n",
        "\n",
        "print()\n",
        "print( 'float_list[0] = ', float_list[0] )\n",
        "\n",
        "print()\n",
        "print( 'float_list[0]*2 = ', float_list[0]*2 )\n",
        "\n",
        "print()\n",
        "print(float_list)"
      ]
    },
    {
      "cell_type": "markdown",
      "metadata": {
        "id": "nfRT0Wviubu8"
      },
      "source": [
        "The `range` function is useful for creating an object that can be iterated over from a *starting* point to some *ending* point by a certain *step size*. \n",
        "\n",
        "While it does not create a list, it can be used to quickly create lists of ordered numbers very quickly as shown below."
      ]
    },
    {
      "cell_type": "code",
      "execution_count": null,
      "metadata": {
        "id": "m6F8_HwGubu8"
      },
      "outputs": [],
      "source": [
        "print(range(1,20,2)) \n",
        "\n",
        "print()\n",
        "\n",
        "print(type(range(1,20,2))) "
      ]
    },
    {
      "cell_type": "code",
      "execution_count": null,
      "metadata": {
        "id": "otOc_v62ubu8"
      },
      "outputs": [],
      "source": [
        "int_list = list(range(1,20,2))  # build a list, start with 1, add 2 while less than 20\n",
        "\n",
        "print()\n",
        "print( 'int_list = ', int_list )\n",
        "\n",
        "print()\n",
        "print( '(type(int_list), type(float_list)) = ', (type(int_list), type(float_list)) )"
      ]
    },
    {
      "cell_type": "code",
      "execution_count": null,
      "metadata": {
        "id": "WrXmxHuiubu8"
      },
      "outputs": [],
      "source": [
        "list_of_lists = [float_list, int_list]  # build a list of lists\n",
        "\n",
        "print()\n",
        "print( 'mixed_list = ', list_of_lists)  # change mixed_list everwhere to list_of_lists\n",
        "\n",
        "print()\n",
        "print( 'mixed_list[0] = ', list_of_lists[0] )\n",
        "\n",
        "print()\n",
        "print( 'mixed_list[1] = ', list_of_lists[1] )\n",
        "\n",
        "print()\n",
        "print( 'mixed_list[0][1] = ', list_of_lists[0][1] )\n",
        "\n",
        "print()\n",
        "print( 'mixed_list[1][2] = ', list_of_lists[1][2] )"
      ]
    },
    {
      "cell_type": "code",
      "execution_count": null,
      "metadata": {
        "id": "oaLSi1lGubu8"
      },
      "outputs": [],
      "source": [
        "conc_list = int_list + float_list  # Concatenation of lists\n",
        "\n",
        "print()\n",
        "print( 'conc_list = ', conc_list )"
      ]
    },
    {
      "cell_type": "markdown",
      "metadata": {
        "id": "bl9PaDmhubu8"
      },
      "source": [
        "### A few quick notes about lists\n",
        "---\n",
        "\n",
        "- While we can build a list of numbers, their group behavior does ***not*** match the individual behavior. For example, in the code above, `float_list*2` produces a list of floats that is not equal to the floats within the list multiplied by 2.\n",
        "<br>\n",
        "\n",
        "- In another notebook, we work with **numpy** *arrays* which are lists that behave more like vectors and matrices. Generally, if the objective is to do actual scientific computations on the lists that are like matrix or vector operations, then we want to use `numpy` arrays not lists. If you have any experience with Matlab, then working with `numpy` should feel more natural. \n",
        "<br>\n",
        "\n",
        "- In your assignment, you will be exposed to [more on lists](https://docs.python.org/3/tutorial/datastructures.html#more-on-lists) with a focus on some useful manipulations of this data type.\n",
        "<br>\n",
        "\n",
        "- [List comprehensions](https://docs.python.org/3/tutorial/datastructures.html#list-comprehensions) are special ways of creating lists using loops, functions, and logic. Since those are topics for a future lecture, we only mention this here. The assignment for the next lecture will return to this specific topic."
      ]
    },
    {
      "cell_type": "markdown",
      "metadata": {
        "id": "m-paLadQubu9"
      },
      "source": [
        "### What about dictionaries and other data types?\n",
        "---\n",
        "\n",
        "A [dictionary](https://docs.python.org/3/tutorial/datastructures.html#dictionaries) is another useful data type in Python, but it is a bit more specialized. \n",
        "They arise in a few settings.\n",
        "For instance, when we read in data files that have a type of \"spreadsheet\" format with labels for useful data (think of a spreadsheet where each column of data has a \"header\" describing what the data means), then the data set is sometimes described as a dictionary (type dict).\n",
        "They are also sometimes useful for setting parameters for functions (especially plotting functions).\n",
        "\n",
        "Another useful data type is a [tuple](https://docs.python.org/3/tutorial/datastructures.html#tuples-and-sequences), which often arise when functions return multiple distinct pieces of information.\n",
        "They also arise when we [zip up](https://docs.python.org/3/library/functions.html#zip) lists/arrays of the same size in loops that use multiple pieces of information.\n",
        "\n",
        "Both of these are important, but we do not have a specific use for these data types now. \n",
        "It is simply enough to be aware that there are plenty of other data types available to us and documentation exists for these.\n",
        "We **will** see these data types in certain contexts for which they are useful later in this course.\n",
        "\n",
        "The takeaway is that there are many useful data types, and we often choose or come across certain types depending on how we plan on using/interacting with the data. We will become more accustomed to this as we progress through our lectures.\n"
      ]
    },
    {
      "cell_type": "markdown",
      "metadata": {
        "id": "xKQpoz9jubu9"
      },
      "source": [
        "---\n",
        "\n",
        "## <mark>Activity: Summary</mark> <a name='activity-summary'/>\n",
        "\n",
        "***In general, you will be asked to summarize some of the key takeaways/points at the end of each notebook in a markdown cell like this and prepare a few code examples related to these takeaways/points. Summary points should be written in complete sentences that state a specific thing you have learned/seen in the notebook. I will get you started with the markdown summary (you need to add at least one more summary point to what I have below). You need to fill in code examples that are related to my (and any of your additional) summary points.***\n",
        "\n",
        "In this notebook, we have seen the following:\n",
        "\n",
        "- Variables of type `int`, `float`, `str`, and `list`, but there are even more types we have not covered such as dictionaries and tuples."
      ]
    },
    {
      "cell_type": "code",
      "execution_count": null,
      "metadata": {
        "id": "xR5otidhubu9"
      },
      "outputs": [],
      "source": [
        "# An example related to first bullet point goes here\n",
        "\n",
        "# different types\n",
        "\n",
        "x = 5  # int\n",
        "\n",
        "y = 5.5  # float\n",
        "\n",
        "z = \"Hello, World!\"  # str\n",
        "\n",
        "w = [1, 2, 3]  # list\n",
        "\n",
        "a = {\"name\": \"John\", \"age\": 30}  # dictionary\n",
        "\n",
        "b = (1, \"hello\", 3.5)  # tuple\n",
        "\n",
        "# Print the variable types\n",
        "\n",
        "print(\"The type of x is:\", type(x))\n",
        "\n",
        "print(\"The type of y is:\", type(y))\n",
        "\n",
        "print(\"The type of z is:\", type(z))\n",
        "\n",
        "print(\"The type of w is:\", type(w))\n",
        "\n",
        "print(\"The type of a is:\", type(a))\n",
        "\n",
        "print(\"The type of b is:\", type(b))\n"
      ]
    },
    {
      "cell_type": "markdown",
      "metadata": {
        "id": "H1txo3oVubu9"
      },
      "source": [
        "- We can print to screen using `print` and use that with the `type` function to print critical information about variable types to the screen.\n",
        "\n"
      ]
    },
    {
      "cell_type": "code",
      "execution_count": null,
      "metadata": {
        "id": "QuFVPqLgubu9"
      },
      "outputs": [],
      "source": [
        "# An example related to the second bullet point goes here\n",
        "\n",
        "x = 5  # x is assigned 5\n",
        "\n",
        "print(\"The type of x is:\", type(x))\n",
        "\n",
        "y = \"Hello, World!\"  # y is assigned hello world\n",
        "\n",
        "print(\"The type of y is:\", type(y))\n",
        "\n",
        "z = [1, 2, 3]  # z is assigned a list of 1,2,3\n",
        "\n",
        "print(\"The type of z is:\", type(z))\n"
      ]
    },
    {
      "cell_type": "markdown",
      "metadata": {
        "id": "CEGJmQL1ubu-"
      },
      "source": [
        "- We can cast variables as different types for greater control of the code.\n"
      ]
    },
    {
      "cell_type": "code",
      "execution_count": null,
      "metadata": {
        "id": "fF9V-g-Rubu-"
      },
      "outputs": [],
      "source": [
        "# An example related to the third bullet point goes here\n",
        "\n",
        "# variable as different types\n",
        "\n",
        "x = 5  # int\n",
        "y = float(x)  # cast int to float\n",
        "z = str(x)  # cast int to string\n",
        "w = list(str(x))  # cast int to list of characters\n",
        "\n",
        "# print the variable types and values\n",
        "\n",
        "print(\"The type of x is:\", type(x))\n",
        "print(\"The value of x is:\", x)\n",
        "print(\"The type of y is:\", type(y))\n",
        "print(\"The value of y is:\", y)\n",
        "print(\"The type of z is:\", type(z))\n",
        "print(\"The value of z is:\", z)\n",
        "print(\"The type of w is:\", type(w))\n",
        "print(\"The value of w is:\", w)\n"
      ]
    },
    {
      "cell_type": "markdown",
      "metadata": {
        "id": "N37yvMwdubvC"
      },
      "source": [
        "- We can make lists using built-in Python functions such as `range`.\n"
      ]
    },
    {
      "cell_type": "code",
      "execution_count": null,
      "metadata": {
        "id": "a_vDAw62ubvC"
      },
      "outputs": [],
      "source": [
        "# An example related to the fourth bullet point goes here\n",
        "\n",
        "# a list using the range function\n",
        "my_list = list(range(10))  # creates a list from 0 to 9\n",
        "\n",
        "# print the list\n",
        "print(my_list)\n"
      ]
    },
    {
      "cell_type": "markdown",
      "metadata": {
        "id": "_meBG55NubvD"
      },
      "source": [
        "<span style='background:rgba(255,255,0, 0.25); color:black'> YOUR ADDITIONAL SUMMARY POINT GOES HERE.</span> \n",
        "\n",
        "- We can make lists using numpy, which acts more as a matrix."
      ]
    },
    {
      "cell_type": "code",
      "execution_count": null,
      "metadata": {
        "id": "Mw_tH34xubvD"
      },
      "outputs": [],
      "source": [
        "# An example related to your additional summary point goes here\n",
        "\n",
        "import numpy as np  # import numpy \n",
        "\n",
        "my_list = np.array([1, 2, 3, 4, 5])  # creates list\n",
        "\n",
        "print(my_list)  # print my_list array\n"
      ]
    },
    {
      "cell_type": "markdown",
      "metadata": {
        "id": "wLoJZejtubvD"
      },
      "source": [
        "End of Summary Activity.\n",
        "\n",
        "---"
      ]
    },
    {
      "cell_type": "markdown",
      "metadata": {
        "id": "TrhdHLgRubvE"
      },
      "source": [
        "### <a href='#Contents'>Click here to return to Notebook Contents</a>"
      ]
    }
  ],
  "metadata": {
    "anaconda-cloud": {},
    "kernelspec": {
      "display_name": "Python 3",
      "language": "python",
      "name": "python3"
    },
    "language_info": {
      "codemirror_mode": {
        "name": "ipython",
        "version": 3
      },
      "file_extension": ".py",
      "mimetype": "text/x-python",
      "name": "python",
      "nbconvert_exporter": "python",
      "pygments_lexer": "ipython3",
      "version": "3.8.6"
    },
    "colab": {
      "provenance": [],
      "collapsed_sections": [
        "bl9PaDmhubu8",
        "m-paLadQubu9",
        "TrhdHLgRubvE"
      ],
      "include_colab_link": true
    }
  },
  "nbformat": 4,
  "nbformat_minor": 0
}